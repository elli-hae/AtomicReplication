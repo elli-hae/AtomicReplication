{
 "cells": [
  {
   "cell_type": "markdown",
   "id": "65372e61-78cd-4fe0-82ed-81a193bcd414",
   "metadata": {},
   "source": [
    "Adapted from [SPEC5G Preprocessing/CellularPreprocessor](https://github.com/Imtiazkarimik23/SPEC5G)\n",
    "\n",
    "To use: change output_dir and make sure to have the input file in the same directory as this notebook."
   ]
  },
  {
   "cell_type": "code",
   "execution_count": 11,
   "id": "4ba65a82-1d7b-4698-8c2f-416ec732d1dc",
   "metadata": {
    "ExecuteTime": {
     "end_time": "2024-02-05T01:12:17.206817500Z",
     "start_time": "2024-02-05T01:12:17.165817600Z"
    },
    "collapsed": true,
    "jupyter": {
     "outputs_hidden": true
    },
    "scrolled": true
   },
   "outputs": [],
   "source": [
    "import os\n",
    "import re"
   ]
  },
  {
   "cell_type": "code",
   "execution_count": 12,
   "id": "3b2d9317",
   "metadata": {
    "ExecuteTime": {
     "end_time": "2024-02-05T01:12:18.438069100Z",
     "start_time": "2024-02-05T01:12:18.431657100Z"
    }
   },
   "outputs": [],
   "source": [
    "class Preprocessor:\n",
    "    def __init__(self, output_path):\n",
    "        self.output_path = output_path\n",
    "        self.output_file = None\n",
    "        self.line_count = 0\n",
    "        self.code_ident = [\"((\", \"))\", \"{{\", \"}}\",  \"[[\",  \"]]\",  \"::\", \":=\"]\n",
    "        self.html_tags = [\"<img\", \"<input type\", \"<p>\", \"<br>\"]\n",
    "        \n",
    "    def processAll(self, input_path):\n",
    "        #input_path is a directory containing raw data\n",
    "        \n",
    "        if os.path.exists(step_1_output_path):\n",
    "            with open(step_1_output_path, 'r') as fp:\n",
    "                self.line_count = len(fp.readlines()) #To get the next sequence number, as we are appending\n",
    "            \n",
    "        self.output_file = open(step_1_output_path,'w')\n",
    "\n",
    "        self.processIt(input_path, [1])\n",
    "            \n",
    "        self.output_file.close()\n",
    "    \n",
    "    def processIt(self, file, task:list):\n",
    "        \n",
    "        isSpec = False\n",
    "        section_at_next = True\n",
    "        file_line_count = 0\n",
    "        file_word_count = 0\n",
    "        #file: path to a file\n",
    "        with open(file, 'r', encoding='utf-8') as f:\n",
    "            text = f.readlines()\n",
    "            for line in text:\n",
    "                #print(line)\n",
    "                \n",
    "                if any(x in line for x in self.code_ident):\n",
    "                    continue\n",
    "                if any(x in line for x in self.html_tags):\n",
    "                    continue\n",
    "                if '\\\\' in line: #noisy data\n",
    "                    continue\n",
    "                #if 'Editor\\'s Note' in line:\n",
    "                #    continue\n",
    "                if line.istitle(): #Title case: first letter of the first word capitalized- means it is a new sentence\n",
    "                    self.output_file.write('\\n')\n",
    "                else: \n",
    "                    self.output_file.write(' ')\n",
    "                line = re.sub(r'\\[\\d*?\\]', '', line) #Citation removal\n",
    "                line = re.sub(r'(as shown below|[Ss]ee figure below):*\\-*', '', line) #remove certain strings\n",
    "                line = re.sub('\\(see [fF]igure .*?\\d\\)', '', line) #remove '(see Figure #)'\n",
    "                line = re.sub('Figure .*?[\\dA-Za-z]:', '', line) #Figure captions\n",
    "                line = re.sub(r'(\\d[A-Za-z]*\\.)*\\d[\\.\\-]\\d?', '', line) #5.3.4.1 or 4.5.2-1 type number removal\n",
    "                line = re.sub(r'\\[pic\\]', '', line) #picture alternative bad text removal\n",
    "                #line = re.sub(r'\\\\+', '\\\\', line) #keep only one backslash\n",
    "                line = re.sub(r'\\\\x[0-9a-fA-F]{2}', '', line) #removing '\\xc#' type patterns\n",
    "                \n",
    "                \n",
    "                line = re.sub(r'(\\n)+', '', line) #remove extra newlines\n",
    "                line = re.sub(r'(\\t)+', ' ', line) #remove tabs\n",
    "                #line = re.sub(r'^[\\.·\\-]', '', line) #starting dot, interpunct, hyphen removal\n",
    "                line = re.sub(r'^[·\\-]', '', line) #modified ^, does not remove starting dots\n",
    "                #line = re.sub(r'^ ', '', line) #starting whitespace removal\n",
    "                #line = re.sub(r'[\\.:,;\\-]*$', '', line) #one or multiple dot, colon, hyphen, semicolon removal at the end\n",
    "                line = re.sub(r'\\|', '', line) #pipe generated from table\n",
    "                line = re.sub(r'\\.{2,}', '.', line) #multiple dots, keep one\n",
    "                line = re.sub(r' +', ' ', line) #multiple whitespace, keep one\n",
    "                #maybe put this back in @elli\n",
    "                #if section_at_next is True:\n",
    "                #    line = re.sub(r'^\\d.*', '', line) #remove lines with starting digits, meaning sections\n",
    "\n",
    "                line = re.sub(r'([,;:])(\\w)', r'\\1 \\2', line) #insert whitespace after punctuations, except fullstop, underscore\n",
    "                                                              #hyphen\n",
    "                line = re.sub(r'\\ue000', '', line, re.UNICODE)\n",
    "                line = re.sub(r'\\xa0|&nbsp;', '', line, flags=re.IGNORECASE) #remove nonbreaking spaces\n",
    "                \n",
    "                line = re.sub(r'(\\( )', '\\(', line) #whitespace after opening paren.\n",
    "                line = re.sub(r'( \\))', '\\)', line) #whitespace before closing paren.\n",
    "                line = re.sub(r'(\\(\\))|(\\[\\])|(\\{\\})', '', line) #remove empty paren, curly-braces, brackets\n",
    "                line = re.sub(r'^(TS \\d\\d\\d?)|^(TR \\d\\d\\d?)', 'Specification document', line)\n",
    "                line = re.sub(r'(TS \\d\\d\\d?)|(TR \\d\\d\\d?)', 'specification document', line)\n",
    "                \n",
    "                if len(line.split()) < 4 : #skip the line\n",
    "                    continue\n",
    "                if sum(c.isdigit() for c in line)/len(line) >= 0.2: #More than 20% characters of the line are digits\n",
    "                    continue\n",
    "                if re.search(r'(C\\(\\d\\d\\d\\))', line):\n",
    "                    continue\n",
    "                if re.search(r'% %', line):\n",
    "                    continue\n",
    "                if re.search(r'-?\\d,? -?\\d,? -?\\d,? -?\\d', line): #patterns like -1, 1, 1 1 etc.\n",
    "                    continue\n",
    "                if re.search(r'-?[A-Za-z],? -?[A-Za-z],? -?[A-Za-z]', line): #patterns like -1, 1, 1 1 etc.\n",
    "                    continue\n",
    "                \n",
    "                if line[-2:] == 'TS' or line[:-2] == 'TR':\n",
    "                    section_at_next = False\n",
    "                else:\n",
    "                    section_at_next = True\n",
    "                \n",
    "                if line != '' and line != '.':\n",
    "                    line_set = re.findall(r'[^.]+[.]*', line)\n",
    "                    for i, sentence in enumerate(line_set):\n",
    "                        self.line_count += 1\n",
    "                        file_line_count += 1\n",
    "                        file_word_count += len(sentence.split())\n",
    "                        if i != len(line_set)-1:\n",
    "                            sentence = sentence + '\\n'\n",
    "                            self.output_file.write(sentence)\n",
    "                        else:\n",
    "                            self.output_file.write(sentence)\n",
    "\n",
    "            #end of document\n",
    "            self.output_file.write('\\n')\n",
    "        #task is a list of preprocessing tasks you want to carry on\n",
    "        \n",
    "        "
   ]
  },
  {
   "cell_type": "code",
   "execution_count": 13,
   "id": "8ba49fe8",
   "metadata": {
    "ExecuteTime": {
     "end_time": "2024-02-05T01:12:20.140750700Z",
     "start_time": "2024-02-05T01:12:20.122497800Z"
    }
   },
   "outputs": [],
   "source": [
    "input_path = \"LTE_NAS.txt\"\n",
    "step_1_output_path = \"step1processed.txt\"\n",
    "output_dir = '/home/haehnel'"
   ]
  },
  {
   "cell_type": "markdown",
   "id": "39d19b34",
   "metadata": {},
   "source": [
    "### Outputs"
   ]
  },
  {
   "cell_type": "code",
   "execution_count": 14,
   "id": "7590071e",
   "metadata": {
    "ExecuteTime": {
     "end_time": "2024-02-05T01:12:25.824919100Z",
     "start_time": "2024-02-05T01:12:21.561344900Z"
    },
    "scrolled": true
   },
   "outputs": [],
   "source": [
    "dataProcessor = Preprocessor(step_1_output_path)\n",
    "dataProcessor.processAll(input_path)"
   ]
  },
  {
   "cell_type": "markdown",
   "id": "7e784f78",
   "metadata": {},
   "source": [
    "# Second step\n"
   ]
  },
  {
   "cell_type": "code",
   "execution_count": 15,
   "id": "eb5e9042",
   "metadata": {
    "ExecuteTime": {
     "end_time": "2024-02-05T01:12:29.550839300Z",
     "start_time": "2024-02-05T01:12:29.388312100Z"
    }
   },
   "outputs": [
    {
     "name": "stdout",
     "output_type": "stream",
     "text": [
      "Number of line reduced:  2535\n"
     ]
    }
   ],
   "source": [
    "final_output_path = os.path.join(output_dir, 'processed_LTE_NAS.txt')\n",
    "token_count_vs_sent_count = {} #key: count of token in a sentence, value: number of sentences with that particular count\n",
    "token_count = []\n",
    "reduction_count = 0\n",
    "with open(final_output_path, 'w') as out_file:\n",
    "    with open(step_1_output_path) as file:\n",
    "        lines = file.readlines()\n",
    "        key = 0\n",
    "        for line in lines:\n",
    "            #print(line + '\\n')\n",
    "            if len(line.split())< 4 and line != '\\n' or line == '\\n':\n",
    "                reduction_count += 1\n",
    "                continue\n",
    "            line = re.sub(r'\\n\\s*\\n', '\\n\\n', line)\n",
    "            line = re.sub(r' +', ' ', line)\n",
    "            line = re.sub(r'^ +', '', line)\n",
    "            if len(line.split()) > 4 and line[-2] != '.':\n",
    "                line = line[:-2] + '.\\n'\n",
    "            if line[-5:] == 'e.g.\\n' or line[-5:] == 'i.e.\\n':\n",
    "                line = line[:-2] + ' '\n",
    "                reduction_count += 1\n",
    "            if line == ' ':\n",
    "                reduction_count += 1\n",
    "                continue\n",
    "            key += len(line.split())\n",
    "            if len(line) > 1 and line[-1] == '\\n': #end of a proper line, write in dictionary\n",
    "                token_count.append(key)\n",
    "                key = 0\n",
    "\n",
    "            out_file.write(line)\n",
    "print(\"Number of line reduced: \", reduction_count)"
   ]
  },
  {
   "cell_type": "code",
   "execution_count": 10,
   "id": "7e4abff6-8e5a-4d30-816a-90c0afe2f523",
   "metadata": {
    "ExecuteTime": {
     "end_time": "2024-02-05T01:11:20.747612Z",
     "start_time": "2024-02-05T01:11:20.699268Z"
    }
   },
   "outputs": [],
   "source": []
  }
 ],
 "metadata": {
  "kernelspec": {
   "display_name": "Python 3 (ipykernel)",
   "language": "python",
   "name": "python3"
  },
  "language_info": {
   "codemirror_mode": {
    "name": "ipython",
    "version": 3
   },
   "file_extension": ".py",
   "mimetype": "text/x-python",
   "name": "python",
   "nbconvert_exporter": "python",
   "pygments_lexer": "ipython3",
   "version": "3.10.13"
  }
 },
 "nbformat": 4,
 "nbformat_minor": 5
}
