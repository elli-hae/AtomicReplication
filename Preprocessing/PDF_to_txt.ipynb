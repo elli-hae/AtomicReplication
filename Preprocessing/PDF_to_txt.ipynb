{
 "cells": [
  {
   "cell_type": "markdown",
   "id": "2de64a9b",
   "metadata": {
    "collapsed": false
   },
   "source": [
    "Adapted from [PyPDF2 documentation](https://pypdf2.readthedocs.io/en/3.0.0/user/extract-text.html) and [this Medium tutorial](https://medium.com/mlearning-ai/how-to-extract-text-from-a-pdf-nlp-b6409422cfd2)"
   ]
  },
  {
   "cell_type": "code",
   "execution_count": 10,
   "id": "b7bd0c65",
   "metadata": {
    "collapsed": false
   },
   "outputs": [],
   "source": [
    "import PyPDF2\n",
    "\n",
    "#create file object variable\n",
    "#opening method will be rb\n",
    "pdf_file_obj = open('ts_124501v160501p.pdf', 'rb')\n",
    "\n",
    "#create reader variable that will read the pdffileobj\n",
    "pdf_reader=PyPDF2.PdfReader(pdf_file_obj)\n",
    "\n",
    "#This will store the number of pages of this pdf file\n",
    "x = len(pdf_reader.pages)\n",
    "\n",
    "#create a variable that will select the selected number of pages\n",
    "page_obj = pdf_reader.pages[x-1]\n",
    "\n",
    "#(x+1) because python indentation starts with 0.\n",
    "#create text variable which will store all text datafrom pdf file\n",
    "text = page_obj.extract_text()\n",
    "\n",
    "#save the extracted data from pdf to a txt file\n",
    "#we will use file handling here\n",
    "#dont forget to put r before you put the file path\n",
    "#go to the file location copy the path by right clicking on the file\n",
    "#click properties and copy the location path and paste it here.\n",
    "#put \"\\\\your_txtfilename\"\n",
    "file1 = open(\"5G_NAS_from_PDF.txt\",\"a\")\n",
    "file1.writelines(text)\n"
   ]
  },
  {
   "cell_type": "code",
   "execution_count": 5,
   "id": "5a92e3c5-75c4-4b1c-8c44-2e3afd59ecc5",
   "metadata": {
    "ExecuteTime": {
     "end_time": "2024-02-02T17:12:39.315973800Z",
     "start_time": "2024-02-02T17:12:12.121689300Z"
    }
   },
   "outputs": [],
   "source": [
    "from PyPDF2 import PdfReader\n",
    "\n",
    "pdf_file_obj = open('ts_124501v160501p.pdf', 'rb')\n",
    "\n",
    "reader = PdfReader(pdf_file_obj)\n",
    "\n",
    "file1 = open(\"5G_NAS_from_PDF.txt\",\"a+\")\n",
    "\n",
    "\n",
    "#pages = []\n",
    "for i in range(len(reader.pages) - 1):\n",
    "    page = reader.pages[i]\n",
    "    parts = []\n",
    "    def visitor_body(text, cm, tm, fontDict, fontSize):\n",
    "        y = tm[5]\n",
    "        if 50 < y < 720:\n",
    "            parts.append(text)\n",
    "    page.extract_text(visitor_text=visitor_body)\n",
    "    text_body = \"\".join(parts)\n",
    "    file1.writelines(text_body)\n",
    "    #pages.append(text_body)\n",
    "\n",
    "#file1.writelines(pages)\n",
    "\n"
   ]
  },
  {
   "cell_type": "code",
   "execution_count": null,
   "id": "5f5981b4",
   "metadata": {
    "collapsed": false
   },
   "outputs": [],
   "source": []
  }
 ],
 "metadata": {
  "kernelspec": {
   "display_name": "Python 3 (ipykernel)",
   "language": "python",
   "name": "python3"
  },
  "language_info": {
   "codemirror_mode": {
    "name": "ipython",
    "version": 3
   },
   "file_extension": ".py",
   "mimetype": "text/x-python",
   "name": "python",
   "nbconvert_exporter": "python",
   "pygments_lexer": "ipython3",
   "version": "3.10.13"
  }
 },
 "nbformat": 4,
 "nbformat_minor": 5
}
